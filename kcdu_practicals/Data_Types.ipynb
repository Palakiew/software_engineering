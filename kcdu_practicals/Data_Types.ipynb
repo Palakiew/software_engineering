{
 "cells": [
  {
   "cell_type": "markdown",
   "metadata": {},
   "source": [
    "**Data types in Python**"
   ]
  },
  {
   "cell_type": "markdown",
   "metadata": {},
   "source": [
    "- String\n",
    "- List\n",
    "- Tuple\n",
    "- Set\n",
    "- Dictionary"
   ]
  },
  {
   "cell_type": "markdown",
   "metadata": {},
   "source": [
    "** String **"
   ]
  },
  {
   "cell_type": "code",
   "execution_count": 22,
   "metadata": {},
   "outputs": [
    {
     "name": "stdout",
     "output_type": "stream",
     "text": [
      "<class 'str'>\n",
      "3\n",
      "a\n",
      "aa\n",
      "b\n",
      "bb\n",
      "c\n",
      "cc\n"
     ]
    }
   ],
   "source": [
    "# String: strings are always remains in double / single quotes, it is immutable\n",
    "raw_str = \"abc\"\n",
    "print(type(raw_str))\n",
    "print(len(raw_str))\n",
    "for c in raw_str:\n",
    "    print(c)  # indentation\n",
    "    if len(c) < 2:\n",
    "        print(c*2)"
   ]
  },
  {
   "cell_type": "code",
   "execution_count": 23,
   "metadata": {},
   "outputs": [
    {
     "data": {
      "text/plain": [
       "'jhdgjajsa'"
      ]
     },
     "execution_count": 23,
     "metadata": {},
     "output_type": "execute_result"
    }
   ],
   "source": [
    "a ='jhdgjajsa'\n",
    "a"
   ]
  },
  {
   "cell_type": "markdown",
   "metadata": {},
   "source": [
    "** LIST **"
   ]
  },
  {
   "cell_type": "code",
   "execution_count": 24,
   "metadata": {},
   "outputs": [
    {
     "name": "stdout",
     "output_type": "stream",
     "text": [
      "<class 'list'>\n",
      "0\n",
      "3\n",
      "4\n",
      "-------------------------------------\n",
      "1\n",
      "2\n",
      "3\n",
      "abc\n",
      "pqrew\n",
      "hdjks\n",
      "23\n",
      "abc\n",
      "hdjhjksdhjhdjks\n",
      "5\n",
      "abc\n",
      "pqrew\n",
      "hdjks\n",
      "hdjhjksdhjhdjks\n",
      "psssdsd\n"
     ]
    }
   ],
   "source": [
    "# List: list always has square brackets , it is mutable\n",
    "raw_list = []\n",
    "print(type(raw_list))\n",
    "print(len(raw_list))\n",
    "############################\n",
    "raw_list1 = [ 1, 2, 3]  # list of integres\n",
    "raw_list2 = [\"abc\", \"pqrew\", \"hdjks\", \"23\"]   # list of strings\n",
    "print(len(raw_list1))\n",
    "print(len(raw_list2))\n",
    "print(\"-------------------------------------\")\n",
    "for c in raw_list1:\n",
    "    print(c)\n",
    "for d in raw_list2:\n",
    "    print(d)\n",
    "    \n",
    "################################################\n",
    "\n",
    "print(raw_list2[0])\n",
    "\n",
    "#####################\n",
    "\n",
    "raw_list2[3]  = \"hdjhjksdhjhdjks\"\n",
    "\n",
    "print(raw_list2[3])\n",
    "\n",
    "raw_list2.append(\"psssdsd\")\n",
    "print(len(raw_list2))\n",
    "\n",
    "for l in raw_list2:\n",
    "    print(l)"
   ]
  },
  {
   "cell_type": "markdown",
   "metadata": {},
   "source": [
    "** Tuples**"
   ]
  },
  {
   "cell_type": "code",
   "execution_count": 25,
   "metadata": {},
   "outputs": [
    {
     "name": "stdout",
     "output_type": "stream",
     "text": [
      "<class 'tuple'>\n",
      "<class 'tuple'> 2\n",
      "<class 'tuple'> 2\n",
      "<class 'tuple'>\n",
      "2\n",
      "3\n"
     ]
    }
   ],
   "source": [
    "# Tuples: Tuples requires atleast one comma, and remains enclosed by  paranthes (it optional)\n",
    "# It is immutable\n",
    "raw_tuple = (2,3)\n",
    "raw_tuple1 = 2,4\n",
    "raw_tuple2 = ()\n",
    "print(type(raw_tuple2))\n",
    "print(type(raw_tuple), len(raw_tuple))\n",
    "print(type(raw_tuple1), len(raw_tuple1))\n",
    "raw_tpl = (3,)\n",
    "print(type(raw_tpl))\n",
    "ra_lst = [\"ds\"]\n",
    "raw_str22 = \"A\"\n",
    "\n",
    "for t in raw_tuple:\n",
    "    print(t)"
   ]
  },
  {
   "cell_type": "code",
   "execution_count": 26,
   "metadata": {},
   "outputs": [
    {
     "name": "stdout",
     "output_type": "stream",
     "text": [
      "<class 'dict'> 0\n",
      "I am the key name and my value is Saket\n",
      "I am the key course and my value is B.Voc\n",
      "I am the key semester and my value is 5\n",
      "I am the key sudent_name and my value is ['std1', 'std2', 'std3']\n",
      "dict_keys(['name', 'course', 'semester', 'sudent_name'])\n",
      "dict_values(['Saket', 'B.Voc', 5, ['std1', 'std2', 'std3']])\n"
     ]
    }
   ],
   "source": [
    "# Dictionary: Data remains in key and value pair format and remin enclosed by {}; it is also mutable\n",
    "\n",
    "raw_dict = {}\n",
    "print(type(raw_dict), len(raw_dict))\n",
    "\n",
    "raw_dict1 = {\n",
    "    \"name\": \"Saket\",\n",
    "    \"course\": \"B.Voc\",\n",
    "    \"semester\": 5,\n",
    "    \"sudent_name\": [\"std1\", \"std2\", \"std3\"]\n",
    "}\n",
    "\n",
    "for k, v in raw_dict1.items():\n",
    "    print(\"I am the key {} and my value is {}\".format(k, v))\n",
    "\n",
    "all_keys = raw_dict1.keys()\n",
    "print(all_keys)\n",
    "\n",
    "all_values = raw_dict1.values()\n",
    "print(all_values)\n",
    "\n"
   ]
  },
  {
   "cell_type": "code",
   "execution_count": 27,
   "metadata": {},
   "outputs": [
    {
     "name": "stdout",
     "output_type": "stream",
     "text": [
      "<class 'list'> <class 'list'>\n",
      "<class 'set'> <class 'set'>\n",
      "['A', 'B', 'C', 'D'] {'C', 'B', 'D', 'A'}\n",
      "Comman subject: {'C', 'A'}\n",
      "std1 has these different subjects from: std2 {'B', 'D'} \n",
      "std2 has these different subjects from: std1 {'P', 'Q'} \n"
     ]
    }
   ],
   "source": [
    "# Set: Set are also immutable\n",
    "std1 = [\"A\", \"B\", \"C\", \"D\"]\n",
    "std2 = [\"A\", \"C\", \"P\", \"Q\"]\n",
    "print(type(std1), type(std2))\n",
    "std1_set = set(std1)\n",
    "std2_set = set(std2)\n",
    "print(type(std1_set), type(std2_set))\n",
    "print(std1, std1_set)\n",
    "\n",
    "comman_subject = std1_set.intersection(std2_set)\n",
    "#comm = std2_set.intersection(std1_set)\n",
    "print(\"Comman subject: {}\".format(comman_subject))\n",
    "\n",
    "different_from_std2 = std1_set.difference(std2_set)\n",
    "print(\"std1 has these different subjects from: std2 {} \". format(different_from_std2))\n",
    "\n",
    "diffenet_from_std1 = std2_set.difference(std1_set)\n",
    "print(\"std2 has these different subjects from: std1 {} \". format(diffenet_from_std1))"
   ]
  },
  {
   "cell_type": "markdown",
   "metadata": {},
   "source": [
    "Since 2\n",
    "August 2019\n",
    "** LIST :: NEW **\n",
    "\n",
    "It must have [] brackets,\n",
    "List is *Mutable*"
   ]
  },
  {
   "cell_type": "code",
   "execution_count": 28,
   "metadata": {},
   "outputs": [
    {
     "name": "stdout",
     "output_type": "stream",
     "text": [
      "<class 'list'>\n",
      "0\n"
     ]
    }
   ],
   "source": [
    "a =[]\n",
    "print(type(a))\n",
    "print(len(a))"
   ]
  },
  {
   "cell_type": "code",
   "execution_count": 29,
   "metadata": {},
   "outputs": [
    {
     "name": "stdout",
     "output_type": "stream",
     "text": [
      "<class 'list'>\n",
      "4\n"
     ]
    }
   ],
   "source": [
    "b = [3 , 4 , 5, 7]\n",
    "print(type(b)); print(len(b))"
   ]
  },
  {
   "cell_type": "markdown",
   "metadata": {},
   "source": [
    "*** Print Each Element of **a** one by one ***"
   ]
  },
  {
   "cell_type": "markdown",
   "metadata": {},
   "source": [
    "** 1st Method **:"
   ]
  },
  {
   "cell_type": "code",
   "execution_count": 30,
   "metadata": {},
   "outputs": [
    {
     "name": "stdout",
     "output_type": "stream",
     "text": [
      "3\n",
      "4\n",
      "5\n",
      "7\n"
     ]
    }
   ],
   "source": [
    "c = len (b)\n",
    "i = 0\n",
    "while i < c:\n",
    "    print(b[i])       # Printing each element via its index (i)\n",
    "    i = i + 1         # i +=1"
   ]
  },
  {
   "cell_type": "markdown",
   "metadata": {},
   "source": [
    "** 2nd Method **"
   ]
  },
  {
   "cell_type": "code",
   "execution_count": 31,
   "metadata": {},
   "outputs": [
    {
     "name": "stdout",
     "output_type": "stream",
     "text": [
      "3\n",
      "4\n",
      "5\n",
      "7\n"
     ]
    }
   ],
   "source": [
    "for x in b:       # here, b is a list of integers\n",
    "    print(x)"
   ]
  },
  {
   "cell_type": "code",
   "execution_count": 32,
   "metadata": {},
   "outputs": [
    {
     "name": "stdout",
     "output_type": "stream",
     "text": [
      "['ac', 'cd', 'pg', '34']\n",
      "<class 'list'>\n",
      "4\n"
     ]
    }
   ],
   "source": [
    "raw_str = ['ac', 'cd', 'pg','34']    # List of Strings\n",
    "print(raw_str); print(type(raw_str)); print(len(raw_str))"
   ]
  },
  {
   "cell_type": "code",
   "execution_count": 33,
   "metadata": {},
   "outputs": [
    {
     "name": "stdout",
     "output_type": "stream",
     "text": [
      "ac\n",
      "<class 'str'>\n",
      "2\n"
     ]
    }
   ],
   "source": [
    "print(raw_str[0]);             # Fetching string elements \n",
    "print(type(raw_str[0]))\n",
    "print(len(raw_str[0])); "
   ]
  },
  {
   "cell_type": "code",
   "execution_count": 34,
   "metadata": {},
   "outputs": [
    {
     "name": "stdout",
     "output_type": "stream",
     "text": [
      "34\n",
      "<class 'str'>\n",
      "2\n"
     ]
    }
   ],
   "source": [
    "print(raw_str[3])                #Fetching 4th element of string\n",
    "print(type(raw_str[3]))\n",
    "print(len(raw_str[3]))"
   ]
  },
  {
   "cell_type": "code",
   "execution_count": 35,
   "metadata": {},
   "outputs": [
    {
     "name": "stdout",
     "output_type": "stream",
     "text": [
      "3\n",
      "4\n"
     ]
    }
   ],
   "source": [
    "for x in raw_str[3]:   #  Printing each element string\n",
    "    print(x)        # \"in\" is a set operator"
   ]
  },
  {
   "cell_type": "code",
   "execution_count": 36,
   "metadata": {},
   "outputs": [
    {
     "name": "stdout",
     "output_type": "stream",
     "text": [
      "a\n",
      "c\n",
      "c\n",
      "d\n",
      "p\n",
      "g\n",
      "3\n",
      "4\n"
     ]
    }
   ],
   "source": [
    "for x in raw_str:    # Printing each character of strings in list\n",
    "    for y in x:\n",
    "        print(y)"
   ]
  },
  {
   "cell_type": "code",
   "execution_count": 37,
   "metadata": {},
   "outputs": [
    {
     "name": "stdout",
     "output_type": "stream",
     "text": [
      "aaa\n",
      "ccc\n",
      "ccc\n",
      "ddd\n",
      "ppp\n",
      "ggg\n",
      "333\n",
      "444\n"
     ]
    }
   ],
   "source": [
    "for x in raw_str:\n",
    "    for y in x:\n",
    "        print(y*3)    # Left side overloaded operator \"*\""
   ]
  },
  {
   "cell_type": "code",
   "execution_count": 38,
   "metadata": {},
   "outputs": [
    {
     "name": "stdout",
     "output_type": "stream",
     "text": [
      "Type  of new_str1 is  <class 'list'>\n",
      "Type  of new_str2 is  <class 'list'>\n"
     ]
    }
   ],
   "source": [
    "new_str1 = [\"zx\", \"qw\", \"zx\"]   # Homogeneuos list\n",
    "new_str2 = [\"xyz\", 'abc', 234, '12xc'] # Heterogenous List\n",
    "print(\"Type  of new_str1 is \", type(new_str1))\n",
    "print(\"Type  of new_str2 is \", type(new_str2))"
   ]
  },
  {
   "cell_type": "code",
   "execution_count": 39,
   "metadata": {},
   "outputs": [
    {
     "name": "stdout",
     "output_type": "stream",
     "text": [
      "Element zx is a <class 'str'> datatype with size 2\n",
      "Element qw is a <class 'str'> datatype with size 2\n",
      "Element zx is a <class 'str'> datatype with size 2\n"
     ]
    }
   ],
   "source": [
    "# Code to check type of each element of a list\n",
    "for ele in new_str1:\n",
    "    print(\"Element {} is a {} datatype with size {}\".format(ele, type(ele), len(ele)))"
   ]
  },
  {
   "cell_type": "code",
   "execution_count": 40,
   "metadata": {},
   "outputs": [
    {
     "name": "stdout",
     "output_type": "stream",
     "text": [
      "Element xyz is a <class 'str'> datatype\n",
      "Element abc is a <class 'str'> datatype\n",
      "Element 234 is a <class 'int'> datatype\n",
      "Element 12xc is a <class 'str'> datatype\n"
     ]
    }
   ],
   "source": [
    "# Code to check type of each element of a list\n",
    "for ele in new_str2:\n",
    "    print(\"Element {} is a {} datatype\".format(ele, type(ele)))"
   ]
  },
  {
   "cell_type": "code",
   "execution_count": 41,
   "metadata": {},
   "outputs": [
    {
     "name": "stdout",
     "output_type": "stream",
     "text": [
      "<class 'int'>\n"
     ]
    }
   ],
   "source": [
    "a = 2\n",
    "print(type(a))\n",
    "#print(len(a))   "
   ]
  },
  {
   "cell_type": "code",
   "execution_count": 42,
   "metadata": {},
   "outputs": [
    {
     "name": "stdout",
     "output_type": "stream",
     "text": [
      "3\n",
      "['xz', 'pq', 'ac']\n",
      "4\n",
      "['xz', 'pq', 'ac', 'anv']\n"
     ]
    }
   ],
   "source": [
    "raw_list1 =  [\"xz\", \"pq\", 'ac']\n",
    "print(len(raw_list1))\n",
    "print(raw_list1)\n",
    "raw_list1.append(\"anv\")  # Appended an element to the string\n",
    "print(len(raw_list1))\n",
    "print(raw_list1)"
   ]
  },
  {
   "cell_type": "code",
   "execution_count": 43,
   "metadata": {},
   "outputs": [
    {
     "name": "stdout",
     "output_type": "stream",
     "text": [
      "['xz', 'pq', 'ac', 'anv', ['xyz', 'abc', 234, '12xc']]\n"
     ]
    }
   ],
   "source": [
    "raw_list1.append(new_str2)    # will give nested list\n",
    "print(raw_list1)"
   ]
  },
  {
   "cell_type": "code",
   "execution_count": 44,
   "metadata": {},
   "outputs": [
    {
     "name": "stdout",
     "output_type": "stream",
     "text": [
      "xz\n",
      "pq\n",
      "ac\n",
      "anv\n",
      "['xyz', 'abc', 234, '12xc']\n"
     ]
    }
   ],
   "source": [
    "for ele in raw_list1:\n",
    "    print(ele)"
   ]
  },
  {
   "cell_type": "code",
   "execution_count": 45,
   "metadata": {},
   "outputs": [
    {
     "name": "stdout",
     "output_type": "stream",
     "text": [
      "xz\n",
      "pq\n",
      "ac\n",
      "anv\n",
      "xyz\n",
      "abc\n",
      "234\n",
      "12xc\n"
     ]
    }
   ],
   "source": [
    "for ele in raw_list1:\n",
    "    if type(ele) == list:\n",
    "        for ele1 in ele:\n",
    "            print(ele1)        \n",
    "    else:\n",
    "        print(ele)"
   ]
  },
  {
   "cell_type": "code",
   "execution_count": 46,
   "metadata": {},
   "outputs": [
    {
     "name": "stdout",
     "output_type": "stream",
     "text": [
      "['as', 'jsl', 'sd', 'dsg', 'sdg', 'sds']\n"
     ]
    }
   ],
   "source": [
    "raw_list2 = ['as', \"jsl\", \"sd\"]\n",
    "tmp_list = [\"dsg\",'sdg', 'sds']\n",
    "raw_list2.extend(tmp_list)\n",
    "print(raw_list2)"
   ]
  },
  {
   "cell_type": "code",
   "execution_count": 47,
   "metadata": {},
   "outputs": [
    {
     "name": "stdout",
     "output_type": "stream",
     "text": [
      "[['xz', 'pq', 'ac', 'anv', ['xyz', 'abc', 234, '12xc']], ['as', 'jsl', 'sd', 'dsg', 'sdg', 'sds']]\n",
      "2\n"
     ]
    }
   ],
   "source": [
    "raw_list3 = []\n",
    "raw_list3 = [raw_list1, raw_list2]\n",
    "print(raw_list3)\n",
    "print(len(raw_list3))"
   ]
  },
  {
   "cell_type": "markdown",
   "metadata": {},
   "source": [
    "** Data Type ::  Tuple**\n",
    "\n",
    "- It is represented via ().\n",
    "- It is also Mutable. \n",
    "        \n"
   ]
  },
  {
   "cell_type": "code",
   "execution_count": 48,
   "metadata": {},
   "outputs": [
    {
     "name": "stdout",
     "output_type": "stream",
     "text": [
      "<class 'tuple'>\n",
      "0\n"
     ]
    }
   ],
   "source": [
    "a = ()\n",
    "print(type(a))\n",
    "print(len(a))"
   ]
  },
  {
   "cell_type": "code",
   "execution_count": 49,
   "metadata": {},
   "outputs": [
    {
     "name": "stdout",
     "output_type": "stream",
     "text": [
      "('fdfs', 'gsf', 4, 's', 23.57) <class 'tuple'> 5\n"
     ]
    }
   ],
   "source": [
    "b = (\"fdfs\", \"gsf\", 4, \"s\", 23.57)  # Heterogeneous tuple\n",
    "print(b, type(b), len(b))"
   ]
  },
  {
   "cell_type": "code",
   "execution_count": 50,
   "metadata": {},
   "outputs": [
    {
     "name": "stdout",
     "output_type": "stream",
     "text": [
      "fdfs <class 'str'>\n",
      "gsf <class 'str'>\n",
      "4 <class 'int'>\n",
      "s <class 'str'>\n",
      "23.57 <class 'float'>\n"
     ]
    }
   ],
   "source": [
    "# Printing each element of tuple\n",
    "for ele in b:\n",
    "    print(ele, type(ele))"
   ]
  },
  {
   "cell_type": "markdown",
   "metadata": {},
   "source": [
    "** Data Type :: Set **\n",
    "\n",
    "- It is also denoted via [ ]"
   ]
  },
  {
   "cell_type": "code",
   "execution_count": 51,
   "metadata": {},
   "outputs": [
    {
     "name": "stdout",
     "output_type": "stream",
     "text": [
      "{'asc', 'avc', 'as'} <class 'set'>\n"
     ]
    }
   ],
   "source": [
    "raw_set1 = set([\"avc\", \"asc\", \"as\"])\n",
    "print(raw_set1, type(raw_set1))"
   ]
  },
  {
   "cell_type": "code",
   "execution_count": 52,
   "metadata": {},
   "outputs": [
    {
     "name": "stdout",
     "output_type": "stream",
     "text": [
      "{'asc', 'sdd', 'avc', 'as'} <class 'set'>\n"
     ]
    }
   ],
   "source": [
    "# Set has unique elements i.e.repeatation of element is not allowed in a set \n",
    "raw_set2 = set([\"avc\", \"asc\", \"as\", \"sdd\", \"as\"])\n",
    "print(raw_set2, type(raw_set2))"
   ]
  },
  {
   "cell_type": "code",
   "execution_count": 53,
   "metadata": {},
   "outputs": [
    {
     "name": "stdout",
     "output_type": "stream",
     "text": [
      "{'asc', 'we', 'qww', 'avc'} <class 'set'> 4\n"
     ]
    }
   ],
   "source": [
    "raw_set3 = set([\"avc\", \"asc\", \"qww\", \"we\", \"avc\"])\n",
    "print(raw_set3, type(raw_set3), len(raw_set3))"
   ]
  },
  {
   "cell_type": "code",
   "execution_count": 54,
   "metadata": {},
   "outputs": [
    {
     "name": "stdout",
     "output_type": "stream",
     "text": [
      "raw_set2 =  {'asc', 'sdd', 'avc', 'as'}\n",
      "raw_set3 =  {'asc', 'we', 'qww', 'avc'}\n"
     ]
    }
   ],
   "source": [
    "print(\"raw_set2 = \",raw_set2)\n",
    "print(\"raw_set3 = \", raw_set3)"
   ]
  },
  {
   "cell_type": "code",
   "execution_count": 55,
   "metadata": {},
   "outputs": [
    {
     "name": "stdout",
     "output_type": "stream",
     "text": [
      "{'asc', 'avc'}\n",
      "{'asc', 'avc'}\n"
     ]
    }
   ],
   "source": [
    "print(raw_set2.intersection(raw_set3))\n",
    "print(raw_set3.intersection(raw_set2))"
   ]
  },
  {
   "cell_type": "code",
   "execution_count": 56,
   "metadata": {},
   "outputs": [
    {
     "name": "stdout",
     "output_type": "stream",
     "text": [
      "{'as', 'qww', 'sdd', 'we', 'asc', 'avc'}\n",
      "{'as', 'qww', 'we', 'sdd', 'asc', 'avc'}\n"
     ]
    }
   ],
   "source": [
    "print(raw_set2.union(raw_set3))\n",
    "print(raw_set3.union(raw_set2))"
   ]
  },
  {
   "cell_type": "code",
   "execution_count": 57,
   "metadata": {},
   "outputs": [
    {
     "name": "stdout",
     "output_type": "stream",
     "text": [
      "{'as', 'sdd'}\n",
      "{'we', 'qww'}\n"
     ]
    }
   ],
   "source": [
    "print(raw_set2.difference(raw_set3))\n",
    "print(raw_set3.difference(raw_set2))"
   ]
  },
  {
   "cell_type": "markdown",
   "metadata": {},
   "source": [
    "** Data Type :: Dictonary **\n",
    "        \n",
    "- It uses { }.\n",
    "- It uses keys and values to store data."
   ]
  },
  {
   "cell_type": "code",
   "execution_count": 58,
   "metadata": {},
   "outputs": [
    {
     "name": "stdout",
     "output_type": "stream",
     "text": [
      "{} <class 'dict'> 0\n"
     ]
    }
   ],
   "source": [
    "raw_dict = {}\n",
    "print(raw_dict, type(raw_dict), len(raw_dict))"
   ]
  },
  {
   "cell_type": "code",
   "execution_count": 59,
   "metadata": {},
   "outputs": [],
   "source": [
    "student = {\n",
    "    \"name\": \"saket\",\n",
    "    \"course\": \"bvoc\",\n",
    "    \"roll no\" : 123,\n",
    "    \"email_id\" : \"saket_au@rediffmail.com\",\n",
    "    \"marks\":  [23, 45, 66, 90, 0]\n",
    "}"
   ]
  },
  {
   "cell_type": "code",
   "execution_count": 60,
   "metadata": {},
   "outputs": [
    {
     "name": "stdout",
     "output_type": "stream",
     "text": [
      "{'name': 'saket', 'course': 'bvoc', 'roll no': 123, 'email_id': 'saket_au@rediffmail.com', 'marks': [23, 45, 66, 90, 0]} <class 'dict'> 5\n"
     ]
    }
   ],
   "source": [
    "print(student, type(student), len(student))"
   ]
  },
  {
   "cell_type": "code",
   "execution_count": 61,
   "metadata": {},
   "outputs": [
    {
     "name": "stdout",
     "output_type": "stream",
     "text": [
      "name saket\n",
      "course bvoc\n",
      "roll no 123\n",
      "email_id saket_au@rediffmail.com\n",
      "marks [23, 45, 66, 90, 0]\n"
     ]
    }
   ],
   "source": [
    "for key, value in student.items():\n",
    "    print(key, value)"
   ]
  },
  {
   "cell_type": "code",
   "execution_count": 64,
   "metadata": {},
   "outputs": [
    {
     "name": "stdout",
     "output_type": "stream",
     "text": [
      "We are keys in dictionary: \n",
      " dict_keys(['name', 'course', 'roll no', 'email_id', 'marks'])\n"
     ]
    }
   ],
   "source": [
    "print(\"We are keys in dictionary: \\n\", student.keys())"
   ]
  },
  {
   "cell_type": "code",
   "execution_count": 65,
   "metadata": {},
   "outputs": [
    {
     "name": "stdout",
     "output_type": "stream",
     "text": [
      "<class 'dict_keys'> 5\n"
     ]
    }
   ],
   "source": [
    "k = student.keys()\n",
    "print(type(k), len(k))"
   ]
  },
  {
   "cell_type": "code",
   "execution_count": 72,
   "metadata": {},
   "outputs": [
    {
     "name": "stdout",
     "output_type": "stream",
     "text": [
      "<class 'dict_values'> \n",
      " dict_values(['saket', 'bvoc', 123, 'saket_au@rediffmail.com', [23, 45, 66, 90, 0]]) \n",
      " 5\n"
     ]
    }
   ],
   "source": [
    "v = student.values()\n",
    "print(type(v), \"\\n\", v, \"\\n\", len(v))"
   ]
  },
  {
   "cell_type": "markdown",
   "metadata": {},
   "source": [
    "** Add an element into the dictionary **"
   ]
  },
  {
   "cell_type": "code",
   "execution_count": 73,
   "metadata": {},
   "outputs": [],
   "source": [
    "student[\"address\"] = \"ramanujan college, Kalka Ji\""
   ]
  },
  {
   "cell_type": "code",
   "execution_count": 74,
   "metadata": {},
   "outputs": [
    {
     "data": {
      "text/plain": [
       "{'address': 'ramanujan college, Kalka Ji',\n",
       " 'course': 'bvoc',\n",
       " 'email_id': 'saket_au@rediffmail.com',\n",
       " 'marks': [23, 45, 66, 90, 0],\n",
       " 'name': 'saket',\n",
       " 'roll no': 123}"
      ]
     },
     "execution_count": 74,
     "metadata": {},
     "output_type": "execute_result"
    }
   ],
   "source": [
    "student"
   ]
  },
  {
   "cell_type": "code",
   "execution_count": 75,
   "metadata": {},
   "outputs": [],
   "source": [
    "student = {\n",
    "    \"mobile\": \"23233\"\n",
    "}"
   ]
  },
  {
   "cell_type": "code",
   "execution_count": 76,
   "metadata": {},
   "outputs": [
    {
     "data": {
      "text/plain": [
       "{'mobile': '23233'}"
      ]
     },
     "execution_count": 76,
     "metadata": {},
     "output_type": "execute_result"
    }
   ],
   "source": [
    "student"
   ]
  },
  {
   "cell_type": "code",
   "execution_count": 77,
   "metadata": {},
   "outputs": [],
   "source": [
    "student1 = {\n",
    "    \"name\": \"saket\",\n",
    "    \"course\": \"bvoc\",\n",
    "    \"roll no\" : 123,\n",
    "    \"email_id\" : \"saket_au@rediffmail.com\",\n",
    "    \"marks\":  [23, 45, 66, 90, 0]\n",
    "}"
   ]
  },
  {
   "cell_type": "code",
   "execution_count": 81,
   "metadata": {},
   "outputs": [
    {
     "name": "stdout",
     "output_type": "stream",
     "text": [
      "name\n",
      "course\n",
      "roll no\n",
      "email_id\n",
      "marks\n"
     ]
    }
   ],
   "source": [
    "for i in student1:\n",
    "    print(i)"
   ]
  },
  {
   "cell_type": "code",
   "execution_count": 83,
   "metadata": {},
   "outputs": [
    {
     "data": {
      "text/plain": [
       "[23, 45, 66, 90, 0]"
      ]
     },
     "execution_count": 83,
     "metadata": {},
     "output_type": "execute_result"
    }
   ],
   "source": [
    "student1[\"name\"]\n",
    "student1[i]"
   ]
  },
  {
   "cell_type": "code",
   "execution_count": 85,
   "metadata": {},
   "outputs": [
    {
     "name": "stdout",
     "output_type": "stream",
     "text": [
      "key: name , Data values saket data type: <class 'str'>\n",
      "key: course , Data values bvoc data type: <class 'str'>\n",
      "key: roll no , Data values 123 data type: <class 'int'>\n",
      "key: email_id , Data values saket_au@rediffmail.com data type: <class 'str'>\n",
      "key: marks , Data values [23, 45, 66, 90, 0] data type: <class 'list'>\n"
     ]
    }
   ],
   "source": [
    "for i in student1:\n",
    "    print(\"key:\", i, \", Data values\", \\\n",
    "          student1[i], \"data type:\", type(student1[i]))"
   ]
  },
  {
   "cell_type": "markdown",
   "metadata": {},
   "source": [
    "** change the value of a key in dictionary **"
   ]
  },
  {
   "cell_type": "code",
   "execution_count": 86,
   "metadata": {},
   "outputs": [],
   "source": [
    "if type(student1[\"roll no\"]) == int:\n",
    "    student1[\"roll no\"] = str(student1[\"roll no\"])"
   ]
  },
  {
   "cell_type": "code",
   "execution_count": 88,
   "metadata": {},
   "outputs": [
    {
     "name": "stdout",
     "output_type": "stream",
     "text": [
      "<class 'str'> 123\n"
     ]
    }
   ],
   "source": [
    "print(type(student1[\"roll no\"]), student1[\"roll no\"])"
   ]
  },
  {
   "cell_type": "code",
   "execution_count": 94,
   "metadata": {},
   "outputs": [
    {
     "name": "stdout",
     "output_type": "stream",
     "text": [
      "[23, 45, 66, 90, 0]\n",
      "Student  saket got  44.8 % marks.\n"
     ]
    }
   ],
   "source": [
    "# Compute the percentage of marks\n",
    "print(student1[\"marks\"])  \n",
    "marks_obtained = sum(student1[\"marks\"])      # sum of marks\n",
    "no_subjects = len(student1[\"marks\"])\n",
    "percentage = marks_obtained / no_subjects\n",
    "print(\"Student \", student1[\"name\"],\\\n",
    "      \"got \", percentage, \"% marks.\")"
   ]
  },
  {
   "cell_type": "code",
   "execution_count": 98,
   "metadata": {},
   "outputs": [
    {
     "name": "stdout",
     "output_type": "stream",
     "text": [
      "Student saket got 44.8 marks.\n"
     ]
    }
   ],
   "source": [
    "print(\"Student {} got {} marks.\".\\\n",
    "      format(student1[\"name\"], percentage))"
   ]
  },
  {
   "cell_type": "code",
   "execution_count": 99,
   "metadata": {},
   "outputs": [
    {
     "name": "stdout",
     "output_type": "stream",
     "text": [
      "Student saket got 44.8 marks.\n"
     ]
    }
   ],
   "source": [
    "print(\"Student {0} got {1} marks.\".\\\n",
    "      format(student1[\"name\"], percentage))"
   ]
  },
  {
   "cell_type": "code",
   "execution_count": 1,
   "metadata": {},
   "outputs": [
    {
     "name": "stdout",
     "output_type": "stream",
     "text": [
      "['889-242-4782', '121-232-4343']\n"
     ]
    }
   ],
   "source": [
    "import re\n",
    "re_object = re.compile(r'\\d\\d\\d-\\d\\d\\d-\\d\\d\\d\\d')\n",
    "text = \"my phone number is 889-242-4782 and my office no is 121-232-4343\"\n",
    "textReg = re_object.findall(text)\n",
    "print(textReg)"
   ]
  },
  {
   "cell_type": "code",
   "execution_count": 2,
   "metadata": {},
   "outputs": [
    {
     "data": {
      "text/plain": [
       "2"
      ]
     },
     "execution_count": 2,
     "metadata": {},
     "output_type": "execute_result"
    }
   ],
   "source": [
    "len(textReg)"
   ]
  },
  {
   "cell_type": "code",
   "execution_count": null,
   "metadata": {},
   "outputs": [],
   "source": []
  }
 ],
 "metadata": {
  "kernelspec": {
   "display_name": "Python 3",
   "language": "python",
   "name": "python3"
  },
  "language_info": {
   "codemirror_mode": {
    "name": "ipython",
    "version": 3
   },
   "file_extension": ".py",
   "mimetype": "text/x-python",
   "name": "python",
   "nbconvert_exporter": "python",
   "pygments_lexer": "ipython3",
   "version": "3.6.4"
  }
 },
 "nbformat": 4,
 "nbformat_minor": 2
}
