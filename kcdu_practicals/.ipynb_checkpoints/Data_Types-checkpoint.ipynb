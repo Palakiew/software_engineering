{
 "cells": [
  {
   "cell_type": "markdown",
   "metadata": {},
   "source": [
    "**Data types in Python**"
   ]
  },
  {
   "cell_type": "markdown",
   "metadata": {},
   "source": [
    "- String\n",
    "- List\n",
    "- Tuple\n",
    "- Set\n",
    "- Dictionary"
   ]
  },
  {
   "cell_type": "markdown",
   "metadata": {},
   "source": [
    "** String **"
   ]
  },
  {
   "cell_type": "code",
   "execution_count": 5,
   "metadata": {},
   "outputs": [
    {
     "name": "stdout",
     "output_type": "stream",
     "text": [
      "<class 'str'>\n",
      "3\n",
      "a\n",
      "aa\n",
      "b\n",
      "bb\n",
      "c\n",
      "cc\n"
     ]
    }
   ],
   "source": [
    "# String: strings are always remains in double / single quotes, it is immutable\n",
    "raw_str = \"abc\"\n",
    "print(type(raw_str))\n",
    "print(len(raw_str))\n",
    "for c in raw_str:\n",
    "    print(c)  # indentation\n",
    "    if len(c) < 2:\n",
    "        print(c*2)"
   ]
  },
  {
   "cell_type": "code",
   "execution_count": 3,
   "metadata": {},
   "outputs": [
    {
     "data": {
      "text/plain": [
       "'j'"
      ]
     },
     "execution_count": 3,
     "metadata": {},
     "output_type": "execute_result"
    }
   ],
   "source": [
    "a ='jhdgjajsa'\n",
    "a"
   ]
  },
  {
   "cell_type": "markdown",
   "metadata": {},
   "source": [
    "** LIST **"
   ]
  },
  {
   "cell_type": "code",
   "execution_count": 11,
   "metadata": {},
   "outputs": [
    {
     "name": "stdout",
     "output_type": "stream",
     "text": [
      "<class 'list'>\n",
      "0\n",
      "3\n",
      "4\n",
      "-------------------------------------\n",
      "1\n",
      "2\n",
      "3\n",
      "abc\n",
      "pqrew\n",
      "hdjks\n",
      "23\n",
      "abc\n",
      "hdjhjksdhjhdjks\n",
      "5\n",
      "abc\n",
      "pqrew\n",
      "hdjks\n",
      "hdjhjksdhjhdjks\n",
      "psssdsd\n"
     ]
    }
   ],
   "source": [
    "# List: list always has square brackets , it is mutable\n",
    "raw_list = []\n",
    "print(type(raw_list))\n",
    "print(len(raw_list))\n",
    "############################\n",
    "raw_list1 = [ 1, 2, 3]  # list of integres\n",
    "raw_list2 = [\"abc\", \"pqrew\", \"hdjks\", \"23\"]   # list of strings\n",
    "print(len(raw_list1))\n",
    "print(len(raw_list2))\n",
    "print(\"-------------------------------------\")\n",
    "for c in raw_list1:\n",
    "    print(c)\n",
    "for d in raw_list2:\n",
    "    print(d)\n",
    "    \n",
    "################################################\n",
    "\n",
    "print(raw_list2[0])\n",
    "\n",
    "#####################\n",
    "\n",
    "raw_list2[3]  = \"hdjhjksdhjhdjks\"\n",
    "\n",
    "print(raw_list2[3])\n",
    "\n",
    "raw_list2.append(\"psssdsd\")\n",
    "print(len(raw_list2))\n",
    "\n",
    "for l in raw_list2:\n",
    "    print(l)"
   ]
  },
  {
   "cell_type": "markdown",
   "metadata": {},
   "source": [
    "** Tuples**"
   ]
  },
  {
   "cell_type": "code",
   "execution_count": 10,
   "metadata": {},
   "outputs": [
    {
     "name": "stdout",
     "output_type": "stream",
     "text": [
      "<class 'tuple'>\n",
      "<class 'tuple'> 2\n",
      "<class 'tuple'> 2\n",
      "<class 'tuple'>\n",
      "2\n",
      "3\n"
     ]
    }
   ],
   "source": [
    "# Tuples: Tuples requires atleast one comma, and remains enclosed by  paranthes (it optional)\n",
    "# It is immutable\n",
    "raw_tuple = (2,3)\n",
    "raw_tuple1 = 2,4\n",
    "raw_tuple2 = ()\n",
    "print(type(raw_tuple2))\n",
    "print(type(raw_tuple), len(raw_tuple))\n",
    "print(type(raw_tuple1), len(raw_tuple1))\n",
    "raw_tpl = (3,)\n",
    "print(type(raw_tpl))\n",
    "ra_lst = [\"ds\"]\n",
    "raw_str22 = \"A\"\n",
    "\n",
    "for t in raw_tuple:\n",
    "    print(t)"
   ]
  },
  {
   "cell_type": "code",
   "execution_count": 12,
   "metadata": {},
   "outputs": [
    {
     "name": "stdout",
     "output_type": "stream",
     "text": [
      "<class 'dict'> 0\n",
      "I am the key name and my value is Saket\n",
      "I am the key course and my value is B.Voc\n",
      "I am the key semester and my value is 5\n",
      "I am the key sudent_name and my value is ['std1', 'std2', 'std3']\n",
      "dict_keys(['name', 'course', 'semester', 'sudent_name'])\n",
      "dict_values(['Saket', 'B.Voc', 5, ['std1', 'std2', 'std3']])\n"
     ]
    }
   ],
   "source": [
    "# Dictionary: Data remains in key and value pair format and remin enclosed by {}; it is also mutable\n",
    "\n",
    "raw_dict = {}\n",
    "print(type(raw_dict), len(raw_dict))\n",
    "\n",
    "raw_dict1 = {\n",
    "    \"name\": \"Saket\",\n",
    "    \"course\": \"B.Voc\",\n",
    "    \"semester\": 5,\n",
    "    \"sudent_name\": [\"std1\", \"std2\", \"std3\"]\n",
    "}\n",
    "\n",
    "for k, v in raw_dict1.items():\n",
    "    print(\"I am the key {} and my value is {}\".format(k, v))\n",
    "\n",
    "all_keys = raw_dict1.keys()\n",
    "print(all_keys)\n",
    "\n",
    "all_values = raw_dict1.values()\n",
    "print(all_values)\n",
    "\n"
   ]
  },
  {
   "cell_type": "code",
   "execution_count": 28,
   "metadata": {},
   "outputs": [
    {
     "name": "stdout",
     "output_type": "stream",
     "text": [
      "<class 'list'> <class 'list'>\n",
      "<class 'set'> <class 'set'>\n",
      "['A', 'B', 'C', 'D'] {'B', 'D', 'A', 'C'}\n",
      "Comman subject: {'C', 'A'}\n",
      "std1 has these different subjects from: std2 {'B', 'D'} \n",
      "std2 has these different subjects from: std1 {'Q', 'P'} \n"
     ]
    }
   ],
   "source": [
    "# Set: Set are also immutable\n",
    "std1 = [\"A\", \"B\", \"C\", \"D\"]\n",
    "std2 = [\"A\", \"C\", \"P\", \"Q\"]\n",
    "print(type(std1), type(std2))\n",
    "std1_set = set(std1)\n",
    "std2_set = set(std2)\n",
    "print(type(std1_set), type(std2_set))\n",
    "print(std1, std1_set)\n",
    "\n",
    "comman_subject = std1_set.intersection(std2_set)\n",
    "#comm = std2_set.intersection(std1_set)\n",
    "print(\"Comman subject: {}\".format(comman_subject))\n",
    "\n",
    "different_from_std2 = std1_set.difference(std2_set)\n",
    "print(\"std1 has these different subjects from: std2 {} \". format(different_from_std2))\n",
    "\n",
    "diffenet_from_std1 = std2_set.difference(std1_set)\n",
    "print(\"std2 has these different subjects from: std1 {} \". format(diffenet_from_std1))"
   ]
  },
  {
   "cell_type": "markdown",
   "metadata": {},
   "source": [
    "Since 2\n",
    "August 2019\n",
    "** LIST :: NEW **\n",
    "\n",
    "It must have [] brackets,\n",
    "List is *Mutable*"
   ]
  },
  {
   "cell_type": "code",
   "execution_count": 9,
   "metadata": {},
   "outputs": [
    {
     "name": "stdout",
     "output_type": "stream",
     "text": [
      "<class 'list'>\n",
      "0\n"
     ]
    }
   ],
   "source": [
    "a =[]\n",
    "print(type(a))\n",
    "print(len(a))"
   ]
  },
  {
   "cell_type": "code",
   "execution_count": 2,
   "metadata": {},
   "outputs": [
    {
     "name": "stdout",
     "output_type": "stream",
     "text": [
      "<class 'list'>\n",
      "4\n"
     ]
    }
   ],
   "source": [
    "b = [3 , 4 , 5, 7]\n",
    "print(type(b)); print(len(b))"
   ]
  },
  {
   "cell_type": "markdown",
   "metadata": {},
   "source": [
    "*** Print Each Element of **a** one by one ***"
   ]
  },
  {
   "cell_type": "markdown",
   "metadata": {},
   "source": [
    "** 1st Method **:"
   ]
  },
  {
   "cell_type": "code",
   "execution_count": 3,
   "metadata": {},
   "outputs": [
    {
     "name": "stdout",
     "output_type": "stream",
     "text": [
      "3\n",
      "4\n",
      "5\n",
      "7\n"
     ]
    }
   ],
   "source": [
    "c = len (b)\n",
    "i = 0\n",
    "while i < c:\n",
    "    print(b[i])       # Printing each element via its index (i)\n",
    "    i = i + 1         # i +=1"
   ]
  },
  {
   "cell_type": "markdown",
   "metadata": {},
   "source": [
    "** 2nd Method **"
   ]
  },
  {
   "cell_type": "code",
   "execution_count": 13,
   "metadata": {},
   "outputs": [
    {
     "name": "stdout",
     "output_type": "stream",
     "text": [
      "3\n",
      "4\n",
      "5\n",
      "7\n"
     ]
    }
   ],
   "source": [
    "for x in b:       # here, b is a list of integers\n",
    "    print(x)"
   ]
  },
  {
   "cell_type": "code",
   "execution_count": 4,
   "metadata": {},
   "outputs": [
    {
     "name": "stdout",
     "output_type": "stream",
     "text": [
      "['ac', 'cd', 'pg', '34']\n",
      "<class 'list'>\n",
      "4\n"
     ]
    }
   ],
   "source": [
    "raw_str = ['ac', 'cd', 'pg','34']    # List of Strings\n",
    "print(raw_str); print(type(raw_str)); print(len(raw_str))"
   ]
  },
  {
   "cell_type": "code",
   "execution_count": 5,
   "metadata": {},
   "outputs": [
    {
     "name": "stdout",
     "output_type": "stream",
     "text": [
      "ac\n",
      "<class 'str'>\n",
      "2\n"
     ]
    }
   ],
   "source": [
    "print(raw_str[0]);             # Fetching string elements \n",
    "print(type(raw_str[0]))\n",
    "print(len(raw_str[0])); "
   ]
  },
  {
   "cell_type": "code",
   "execution_count": 20,
   "metadata": {},
   "outputs": [
    {
     "name": "stdout",
     "output_type": "stream",
     "text": [
      "34\n",
      "<class 'str'>\n",
      "2\n"
     ]
    }
   ],
   "source": [
    "print(raw_str[3])\n",
    "print(type(raw_str[3]))\n",
    "print(len(raw_str[3]))"
   ]
  },
  {
   "cell_type": "code",
   "execution_count": 21,
   "metadata": {},
   "outputs": [
    {
     "name": "stdout",
     "output_type": "stream",
     "text": [
      "3\n",
      "4\n"
     ]
    }
   ],
   "source": [
    "for x in raw_str[3]:\n",
    "    print(x)"
   ]
  },
  {
   "cell_type": "code",
   "execution_count": 22,
   "metadata": {},
   "outputs": [
    {
     "name": "stdout",
     "output_type": "stream",
     "text": [
      "a\n",
      "c\n",
      "c\n",
      "d\n",
      "p\n",
      "g\n",
      "3\n",
      "4\n"
     ]
    }
   ],
   "source": [
    "for x in raw_str:\n",
    "    for y in x:\n",
    "        print(y)"
   ]
  },
  {
   "cell_type": "code",
   "execution_count": 23,
   "metadata": {},
   "outputs": [
    {
     "name": "stdout",
     "output_type": "stream",
     "text": [
      "aaa\n",
      "ccc\n",
      "ccc\n",
      "ddd\n",
      "ppp\n",
      "ggg\n",
      "333\n",
      "444\n"
     ]
    }
   ],
   "source": [
    "for x in raw_str:\n",
    "    for y in x:\n",
    "        print(y*3)"
   ]
  },
  {
   "cell_type": "code",
   "execution_count": null,
   "metadata": {
    "collapsed": true
   },
   "outputs": [],
   "source": []
  }
 ],
 "metadata": {
  "kernelspec": {
   "display_name": "Python 3",
   "language": "python",
   "name": "python3"
  },
  "language_info": {
   "codemirror_mode": {
    "name": "ipython",
    "version": 3
   },
   "file_extension": ".py",
   "mimetype": "text/x-python",
   "name": "python",
   "nbconvert_exporter": "python",
   "pygments_lexer": "ipython3",
   "version": "3.6.4"
  }
 },
 "nbformat": 4,
 "nbformat_minor": 2
}
